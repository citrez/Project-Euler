{
 "cells": [
  {
   "cell_type": "code",
   "execution_count": 10,
   "source": [
    "import numpy as np"
   ],
   "outputs": [],
   "metadata": {}
  },
  {
   "cell_type": "code",
   "execution_count": 4,
   "source": [
    "collatz_cache = dict()"
   ],
   "outputs": [],
   "metadata": {}
  },
  {
   "cell_type": "code",
   "execution_count": 5,
   "source": [
    "def next_collatz(n):\n",
    "    if n%2 == 0:\n",
    "        return( int( n/2) )\n",
    "    else:\n",
    "        return( int(3*n + 1 ))"
   ],
   "outputs": [],
   "metadata": {}
  },
  {
   "cell_type": "code",
   "execution_count": 6,
   "source": [
    "\n",
    "def collatz_seq(n):\n",
    "    seq = []\n",
    "    i = n\n",
    "    global collatz_cache\n",
    "    # print(collatz_cache.keys())\n",
    "    while True:   \n",
    "        if str(int(i) )in list(collatz_cache.keys()):\n",
    "            seq = seq + collatz_cache[str(int(i))]\n",
    "            break\n",
    "        else:\n",
    "            seq.append(int(i) )\n",
    "            i = next_collatz(i)\n",
    "            if i==1:\n",
    "                seq.append(1)\n",
    "                break\n",
    "    collatz_cache[str(int(n) )]=seq\n",
    "    return seq\n",
    "\n"
   ],
   "outputs": [],
   "metadata": {}
  },
  {
   "cell_type": "code",
   "execution_count": 27,
   "source": [
    "%%time\n",
    "for i in range(2,100000):\n",
    "    collatz_seq(i)"
   ],
   "outputs": [],
   "metadata": {}
  },
  {
   "cell_type": "code",
   "execution_count": 26,
   "source": [
    "%%time\n",
    "len_list = [ len(i) for i in collatz_cache.values() ]\n",
    "np.max(len_list)\n"
   ],
   "outputs": [
    {
     "output_type": "execute_result",
     "data": {
      "text/plain": [
       "262"
      ]
     },
     "metadata": {},
     "execution_count": 26
    }
   ],
   "metadata": {}
  },
  {
   "cell_type": "code",
   "execution_count": null,
   "source": [
    "print( np.max( [len(i) for i in collatz_cache.values()]  ) )"
   ],
   "outputs": [],
   "metadata": {}
  }
 ],
 "metadata": {
  "orig_nbformat": 4,
  "language_info": {
   "name": "python",
   "version": "3.9.2",
   "mimetype": "text/x-python",
   "codemirror_mode": {
    "name": "ipython",
    "version": 3
   },
   "pygments_lexer": "ipython3",
   "nbconvert_exporter": "python",
   "file_extension": ".py"
  },
  "kernelspec": {
   "name": "python3",
   "display_name": "Python 3.9.2 64-bit ('venv': venv)"
  },
  "interpreter": {
   "hash": "748a054a0ff1c56319cbd619748319e7113ba220ffb5dbca3d3e5f315ff8f1c2"
  }
 },
 "nbformat": 4,
 "nbformat_minor": 2
}